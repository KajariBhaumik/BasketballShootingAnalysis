{
  "nbformat": 4,
  "nbformat_minor": 0,
  "metadata": {
    "colab": {
      "provenance": [],
      "authorship_tag": "ABX9TyPhIDqPs5KwKn9kinKydA/L",
      "include_colab_link": true
    },
    "kernelspec": {
      "name": "python3",
      "display_name": "Python 3"
    },
    "language_info": {
      "name": "python"
    }
  },
  "cells": [
    {
      "cell_type": "markdown",
      "metadata": {
        "id": "view-in-github",
        "colab_type": "text"
      },
      "source": [
        "<a href=\"https://colab.research.google.com/github/KajariBhaumik/BasketballShootingAnalysis/blob/main/2_Frame_extraction.ipynb\" target=\"_parent\"><img src=\"https://colab.research.google.com/assets/colab-badge.svg\" alt=\"Open In Colab\"/></a>"
      ]
    },
    {
      "cell_type": "code",
      "execution_count": null,
      "metadata": {
        "colab": {
          "base_uri": "https://localhost:8080/"
        },
        "id": "gemnlbxAVrv9",
        "outputId": "4ceb913f-e573-4422-b62a-1ec1be50130a"
      },
      "outputs": [
        {
          "output_type": "stream",
          "name": "stdout",
          "text": [
            "Mounted at /content/drive\n"
          ]
        }
      ],
      "source": [
        "from google.colab import drive\n",
        "drive.mount('/content/drive')"
      ]
    },
    {
      "cell_type": "code",
      "source": [
        "%cd drive/My\\ Drive/Basketball_computer_vision"
      ],
      "metadata": {
        "colab": {
          "base_uri": "https://localhost:8080/"
        },
        "id": "VHohc6WuV9Lj",
        "outputId": "ce68f32d-cdcb-43e0-e32d-075108be4715"
      },
      "execution_count": null,
      "outputs": [
        {
          "output_type": "stream",
          "name": "stdout",
          "text": [
            "/content/drive/My Drive/Basketball_computer_vision\n"
          ]
        }
      ]
    },
    {
      "cell_type": "code",
      "source": [
        "%ls"
      ],
      "metadata": {
        "colab": {
          "base_uri": "https://localhost:8080/"
        },
        "id": "WTAUlc6HWP4t",
        "outputId": "be01ac26-5e5f-4e69-9aae-b700a11585c2"
      },
      "execution_count": null,
      "outputs": [
        {
          "output_type": "stream",
          "name": "stdout",
          "text": [
            "\u001b[0m\u001b[01;34mall_images\u001b[0m/  \u001b[01;34mframe_images\u001b[0m/  \u001b[01;34mnotebook\u001b[0m/  \u001b[01;34mSpinVideos\u001b[0m/\n"
          ]
        }
      ]
    },
    {
      "cell_type": "code",
      "source": [
        "import os\n",
        "import numpy as np\n",
        "import cv2\n",
        "from google.colab.patches import cv2_imshow\n",
        "import matplotlib.pyplot as plt"
      ],
      "metadata": {
        "id": "kMksON7mWc3n"
      },
      "execution_count": null,
      "outputs": []
    },
    {
      "cell_type": "code",
      "source": [
        "vdo_names = os.listdir('frame_images')"
      ],
      "metadata": {
        "id": "op80H9Ezv81L"
      },
      "execution_count": null,
      "outputs": []
    },
    {
      "cell_type": "code",
      "source": [
        "kb = vdo_names[:14]\n",
        "a = vdo_names[14:28]\n",
        "b = vdo_names[28:]"
      ],
      "metadata": {
        "id": "o1djB2l1xS1m"
      },
      "execution_count": null,
      "outputs": []
    },
    {
      "cell_type": "code",
      "source": [
        "b"
      ],
      "metadata": {
        "colab": {
          "base_uri": "https://localhost:8080/"
        },
        "id": "iLSt2bSwyrcx",
        "outputId": "2dfb0e28-7d2b-4256-8ede-4a861388497b"
      },
      "execution_count": null,
      "outputs": [
        {
          "output_type": "execute_result",
          "data": {
            "text/plain": [
              "['01232023124429',\n",
              " '01232023125555',\n",
              " '01232023125714',\n",
              " '01232023104459',\n",
              " '01232023104645',\n",
              " '01232023101323',\n",
              " '01232023101533',\n",
              " '01262023141938',\n",
              " '01262023142118',\n",
              " '01262023134909',\n",
              " '01262023135051',\n",
              " '01262023140410',\n",
              " '01262023140608']"
            ]
          },
          "metadata": {},
          "execution_count": 23
        }
      ]
    },
    {
      "cell_type": "code",
      "source": [
        "# os.mkdir(\"frame_images\")\n",
        "# os.mkdir(\"all_images\")"
      ],
      "metadata": {
        "id": "QjgshpEpX2_m"
      },
      "execution_count": null,
      "outputs": []
    },
    {
      "cell_type": "code",
      "source": [],
      "metadata": {
        "id": "VnSWslaX8v2A"
      },
      "execution_count": null,
      "outputs": []
    },
    {
      "cell_type": "code",
      "source": [
        "for f in os.listdir('SpinVideos')[:-2]:\n",
        "  vdo_path = os.path.join('SpinVideos',f)\n",
        "  test = cv2.VideoCapture(vdo_path)\n",
        "\n",
        "  vdo_name = f.split(' ')[2].split('.')[0]\n",
        "  frame_folder_path = f\"frame_images/{vdo_name}\"\n",
        "  os.mkdir(frame_folder_path)\n",
        "\n",
        "  c=0\n",
        "  while True:\n",
        "    ret, frame= test.read() #ret= if the image is read then it will be true; if it can not read the image, \"ret\" will be false\n",
        "    if ret == False:\n",
        "      break\n",
        "\n",
        "\n",
        "    if c%10==0:\n",
        "      file_name1 = f\"frame_images/{vdo_name}/image_{c}.png\"\n",
        "      file_name2= f\"all_images/image_{vdo_name}_{c}.png\"\n",
        "      cv2.imwrite(file_name1, frame)\n",
        "      cv2.imwrite(file_name2, frame)\n",
        "\n",
        "    c=c+1\n"
      ],
      "metadata": {
        "id": "OFs2H7mnme8B"
      },
      "execution_count": null,
      "outputs": []
    },
    {
      "cell_type": "code",
      "source": [],
      "metadata": {
        "id": "KmlfAChW-TXZ"
      },
      "execution_count": null,
      "outputs": []
    },
    {
      "cell_type": "code",
      "source": [],
      "metadata": {
        "id": "siX3Pwt3MSzt"
      },
      "execution_count": null,
      "outputs": []
    },
    {
      "cell_type": "code",
      "source": [],
      "metadata": {
        "id": "XGxyve6KMevN"
      },
      "execution_count": null,
      "outputs": []
    },
    {
      "cell_type": "code",
      "source": [],
      "metadata": {
        "id": "gGf1QdwvMmDx"
      },
      "execution_count": null,
      "outputs": []
    }
  ]
}
