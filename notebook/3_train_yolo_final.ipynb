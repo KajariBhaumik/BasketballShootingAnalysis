{
  "nbformat": 4,
  "nbformat_minor": 0,
  "metadata": {
    "colab": {
      "provenance": [],
      "gpuType": "T4",
      "authorship_tag": "ABX9TyPx4P4VCoaN1DAUHaoUtVPx",
      "include_colab_link": true
    },
    "kernelspec": {
      "name": "python3",
      "display_name": "Python 3"
    },
    "language_info": {
      "name": "python"
    },
    "accelerator": "GPU"
  },
  "cells": [
    {
      "cell_type": "markdown",
      "metadata": {
        "id": "view-in-github",
        "colab_type": "text"
      },
      "source": [
        "<a href=\"https://colab.research.google.com/github/KajariBhaumik/BasketballShootingAnalysis/blob/main/3_train_yolo_final.ipynb\" target=\"_parent\"><img src=\"https://colab.research.google.com/assets/colab-badge.svg\" alt=\"Open In Colab\"/></a>"
      ]
    },
    {
      "cell_type": "code",
      "execution_count": null,
      "metadata": {
        "colab": {
          "base_uri": "https://localhost:8080/"
        },
        "id": "gfjsKYGKymcr",
        "outputId": "b3890ebb-2efc-4a33-bc44-705461946ed6"
      },
      "outputs": [
        {
          "output_type": "stream",
          "name": "stdout",
          "text": [
            "Mounted at /content/drive\n"
          ]
        }
      ],
      "source": [
        "from google.colab import drive\n",
        "drive.mount('/content/drive')"
      ]
    },
    {
      "cell_type": "code",
      "source": [
        "import os, sys\n",
        "import shutil\n",
        "from tqdm import tqdm"
      ],
      "metadata": {
        "id": "3FvECYqE2JP4"
      },
      "execution_count": null,
      "outputs": []
    },
    {
      "cell_type": "code",
      "source": [],
      "metadata": {
        "id": "_9BGKhNu2JSQ"
      },
      "execution_count": null,
      "outputs": []
    },
    {
      "cell_type": "code",
      "source": [
        "def copy_files(src_dir, dest_dir):\n",
        "  \"\"\"Copies files with specified extensions from source to destination directory.\n",
        "\n",
        "  Args:\n",
        "    src_dir: The source directory.\n",
        "    dest_dir: The destination directory.\n",
        "  \"\"\"\n",
        "  # Create destination directory if it doesn't exist\n",
        "  if not os.path.exists(dest_dir):\n",
        "    os.makedirs(dest_dir)\n",
        "    print(f\"Created directory: {dest_dir}\")\n",
        "  else:\n",
        "    print(f\"Directory already exists: {dest_dir}\")\n",
        "\n",
        "  # Iterate through files in source directory\n",
        "  for filename in tqdm(os.listdir(src_dir)):\n",
        "    src_path = os.path.join(src_dir, filename)\n",
        "    # Check if file has a specified extension and is a file (not a directory)\n",
        "    try:\n",
        "      dest_path = os.path.join(dest_dir, filename)\n",
        "      shutil.copy(src_path, dest_path)  # Copy the file\n",
        "    except:\n",
        "      print(f\"Error copying: {src_path}\")\n",
        "\n",
        "\n"
      ],
      "metadata": {
        "id": "laDRfoo02JUz"
      },
      "execution_count": null,
      "outputs": []
    },
    {
      "cell_type": "code",
      "source": [
        "HOME = \"drive/My Drive/Basketball_computer_vision/datasets/Basketball_Project-Final\"\n",
        "\n",
        "# file v1 ==> 2678 files\n",
        "# file v2 ==> 296 files\n",
        "\n",
        "for split in [\"train\", \"valid\", \"test\"]:\n",
        "    for datatypes in [\"images\", \"labels\"]:\n",
        "        source_directory = os.path.join(HOME, \"Basketball_final_v1\", split, datatypes)\n",
        "        destination_directory = os.path.join(HOME, datatypes, split)\n",
        "        print(source_directory)\n",
        "        print(destination_directory)\n",
        "        print(\"========\")\n",
        "        copy_files(source_directory, destination_directory)"
      ],
      "metadata": {
        "colab": {
          "base_uri": "https://localhost:8080/"
        },
        "id": "xKGxCVvT2JXg",
        "outputId": "1f13990c-5fa5-47eb-bfc6-836ed5578377"
      },
      "execution_count": null,
      "outputs": [
        {
          "output_type": "stream",
          "name": "stdout",
          "text": [
            "drive/My Drive/Basketball_computer_vision/datasets/Basketball_Project-Final/Basketball_final_v1/train/images\n",
            "drive/My Drive/Basketball_computer_vision/datasets/Basketball_Project-Final/images/train\n",
            "========\n",
            "Directory already exists: drive/My Drive/Basketball_computer_vision/datasets/Basketball_Project-Final/images/train\n"
          ]
        },
        {
          "output_type": "stream",
          "name": "stderr",
          "text": [
            "100%|██████████| 122/122 [00:03<00:00, 37.43it/s]\n"
          ]
        },
        {
          "output_type": "stream",
          "name": "stdout",
          "text": [
            "drive/My Drive/Basketball_computer_vision/datasets/Basketball_Project-Final/Basketball_final_v1/train/labels\n",
            "drive/My Drive/Basketball_computer_vision/datasets/Basketball_Project-Final/labels/train\n",
            "========\n",
            "Directory already exists: drive/My Drive/Basketball_computer_vision/datasets/Basketball_Project-Final/labels/train\n"
          ]
        },
        {
          "output_type": "stream",
          "name": "stderr",
          "text": [
            "100%|██████████| 122/122 [00:02<00:00, 46.15it/s]\n"
          ]
        },
        {
          "output_type": "stream",
          "name": "stdout",
          "text": [
            "drive/My Drive/Basketball_computer_vision/datasets/Basketball_Project-Final/Basketball_final_v1/valid/images\n",
            "drive/My Drive/Basketball_computer_vision/datasets/Basketball_Project-Final/images/valid\n",
            "========\n",
            "Directory already exists: drive/My Drive/Basketball_computer_vision/datasets/Basketball_Project-Final/images/valid\n"
          ]
        },
        {
          "output_type": "stream",
          "name": "stderr",
          "text": [
            "100%|██████████| 10/10 [00:03<00:00,  2.96it/s]\n"
          ]
        },
        {
          "output_type": "stream",
          "name": "stdout",
          "text": [
            "drive/My Drive/Basketball_computer_vision/datasets/Basketball_Project-Final/Basketball_final_v1/valid/labels\n",
            "drive/My Drive/Basketball_computer_vision/datasets/Basketball_Project-Final/labels/valid\n",
            "========\n",
            "Directory already exists: drive/My Drive/Basketball_computer_vision/datasets/Basketball_Project-Final/labels/valid\n"
          ]
        },
        {
          "output_type": "stream",
          "name": "stderr",
          "text": [
            "100%|██████████| 10/10 [00:03<00:00,  3.16it/s]\n"
          ]
        },
        {
          "output_type": "stream",
          "name": "stdout",
          "text": [
            "drive/My Drive/Basketball_computer_vision/datasets/Basketball_Project-Final/Basketball_final_v1/test/images\n",
            "drive/My Drive/Basketball_computer_vision/datasets/Basketball_Project-Final/images/test\n",
            "========\n",
            "Directory already exists: drive/My Drive/Basketball_computer_vision/datasets/Basketball_Project-Final/images/test\n"
          ]
        },
        {
          "output_type": "stream",
          "name": "stderr",
          "text": [
            "100%|██████████| 10/10 [00:03<00:00,  2.91it/s]\n"
          ]
        },
        {
          "output_type": "stream",
          "name": "stdout",
          "text": [
            "drive/My Drive/Basketball_computer_vision/datasets/Basketball_Project-Final/Basketball_final_v1/test/labels\n",
            "drive/My Drive/Basketball_computer_vision/datasets/Basketball_Project-Final/labels/test\n",
            "========\n",
            "Directory already exists: drive/My Drive/Basketball_computer_vision/datasets/Basketball_Project-Final/labels/test\n"
          ]
        },
        {
          "output_type": "stream",
          "name": "stderr",
          "text": [
            "100%|██████████| 10/10 [00:04<00:00,  2.26it/s]\n"
          ]
        }
      ]
    },
    {
      "cell_type": "code",
      "source": [
        "for split in [\"train\", \"valid\", \"test\"]:\n",
        "    for datatypes in [\"images\", \"labels\"]:\n",
        "        source_directory = os.path.join(HOME, \"Basketball_final_v2\", split, datatypes)\n",
        "        destination_directory = os.path.join(HOME, datatypes, split)\n",
        "        print(source_directory)\n",
        "        print(destination_directory)\n",
        "        print(\"========\")\n",
        "        copy_files(source_directory, destination_directory)"
      ],
      "metadata": {
        "colab": {
          "base_uri": "https://localhost:8080/"
        },
        "id": "Jzao-t7Y8oH3",
        "outputId": "a3334f9a-2245-448a-a7ed-ce768ac32739"
      },
      "execution_count": null,
      "outputs": [
        {
          "output_type": "stream",
          "name": "stdout",
          "text": [
            "drive/My Drive/Basketball_computer_vision/datasets/Basketball_Project-Final/Basketball_final_v2/train/images\n",
            "drive/My Drive/Basketball_computer_vision/datasets/Basketball_Project-Final/images/train\n",
            "========\n",
            "Directory already exists: drive/My Drive/Basketball_computer_vision/datasets/Basketball_Project-Final/images/train\n"
          ]
        },
        {
          "output_type": "stream",
          "name": "stderr",
          "text": [
            "100%|██████████| 1229/1229 [00:33<00:00, 36.31it/s]\n"
          ]
        },
        {
          "output_type": "stream",
          "name": "stdout",
          "text": [
            "drive/My Drive/Basketball_computer_vision/datasets/Basketball_Project-Final/Basketball_final_v2/train/labels\n",
            "drive/My Drive/Basketball_computer_vision/datasets/Basketball_Project-Final/labels/train\n",
            "========\n",
            "Directory already exists: drive/My Drive/Basketball_computer_vision/datasets/Basketball_Project-Final/labels/train\n"
          ]
        },
        {
          "output_type": "stream",
          "name": "stderr",
          "text": [
            "100%|██████████| 1229/1229 [00:39<00:00, 30.73it/s]\n"
          ]
        },
        {
          "output_type": "stream",
          "name": "stdout",
          "text": [
            "drive/My Drive/Basketball_computer_vision/datasets/Basketball_Project-Final/Basketball_final_v2/valid/images\n",
            "drive/My Drive/Basketball_computer_vision/datasets/Basketball_Project-Final/images/valid\n",
            "========\n",
            "Directory already exists: drive/My Drive/Basketball_computer_vision/datasets/Basketball_Project-Final/images/valid\n"
          ]
        },
        {
          "output_type": "stream",
          "name": "stderr",
          "text": [
            "100%|██████████| 49/49 [00:15<00:00,  3.14it/s]\n"
          ]
        },
        {
          "output_type": "stream",
          "name": "stdout",
          "text": [
            "drive/My Drive/Basketball_computer_vision/datasets/Basketball_Project-Final/Basketball_final_v2/valid/labels\n",
            "drive/My Drive/Basketball_computer_vision/datasets/Basketball_Project-Final/labels/valid\n",
            "========\n",
            "Directory already exists: drive/My Drive/Basketball_computer_vision/datasets/Basketball_Project-Final/labels/valid\n"
          ]
        },
        {
          "output_type": "stream",
          "name": "stderr",
          "text": [
            "100%|██████████| 49/49 [00:17<00:00,  2.87it/s]\n"
          ]
        },
        {
          "output_type": "stream",
          "name": "stdout",
          "text": [
            "drive/My Drive/Basketball_computer_vision/datasets/Basketball_Project-Final/Basketball_final_v2/test/images\n",
            "drive/My Drive/Basketball_computer_vision/datasets/Basketball_Project-Final/images/test\n",
            "========\n",
            "Directory already exists: drive/My Drive/Basketball_computer_vision/datasets/Basketball_Project-Final/images/test\n"
          ]
        },
        {
          "output_type": "stream",
          "name": "stderr",
          "text": [
            "100%|██████████| 53/53 [00:17<00:00,  3.05it/s]\n"
          ]
        },
        {
          "output_type": "stream",
          "name": "stdout",
          "text": [
            "drive/My Drive/Basketball_computer_vision/datasets/Basketball_Project-Final/Basketball_final_v2/test/labels\n",
            "drive/My Drive/Basketball_computer_vision/datasets/Basketball_Project-Final/labels/test\n",
            "========\n",
            "Directory already exists: drive/My Drive/Basketball_computer_vision/datasets/Basketball_Project-Final/labels/test\n"
          ]
        },
        {
          "output_type": "stream",
          "name": "stderr",
          "text": [
            "100%|██████████| 53/53 [00:18<00:00,  2.85it/s]\n"
          ]
        }
      ]
    },
    {
      "cell_type": "code",
      "source": [
        "print(len(os.listdir(os.path.join(HOME, \"images\", \"train\")))) # 122 + 1229\n",
        "print(len(os.listdir(os.path.join(HOME, \"images\", \"valid\"))))\n",
        "print(len(os.listdir(os.path.join(HOME, \"images\", \"test\"))))"
      ],
      "metadata": {
        "colab": {
          "base_uri": "https://localhost:8080/"
        },
        "id": "xCuFSAje8BiL",
        "outputId": "907cd393-ede6-47eb-9d88-78fb67b341d5"
      },
      "execution_count": null,
      "outputs": [
        {
          "output_type": "stream",
          "name": "stdout",
          "text": [
            "1351\n",
            "59\n",
            "63\n"
          ]
        }
      ]
    },
    {
      "cell_type": "code",
      "source": [
        "!pip install ultralytics\n",
        "!pip install albumentations==1.4\n",
        "\n",
        "from IPython import display\n",
        "display.clear_output()"
      ],
      "metadata": {
        "id": "h1joMAVF18Xd"
      },
      "execution_count": null,
      "outputs": []
    },
    {
      "cell_type": "code",
      "source": [
        "!yolo task=detect mode=train model=yolov8s.pt data=/content/drive/My\\ Drive/Basketball_computer_vision/datasets/Basketball_Project-Final/data.yaml\\\n",
        " epochs=50 imgsz=640 plots=True project=\"drive/My Drive/Basketball_computer_vision/datasets/Basketball_Project-Final\" name=\"YOLO_train_Final\""
      ],
      "metadata": {
        "colab": {
          "base_uri": "https://localhost:8080/"
        },
        "id": "l4prcQaz2EQF",
        "outputId": "336f5faa-1bb5-4cf1-b007-3407914fb104"
      },
      "execution_count": null,
      "outputs": [
        {
          "output_type": "stream",
          "name": "stdout",
          "text": [
            "Ultralytics 8.3.38 🚀 Python-3.10.12 torch-2.5.1+cu121 CUDA:0 (Tesla T4, 15102MiB)\n",
            "\u001b[34m\u001b[1mengine/trainer: \u001b[0mtask=detect, mode=train, model=yolov8s.pt, data=/content/drive/My Drive/Basketball_computer_vision/datasets/Basketball_Project-Final/data.yaml, epochs=50, time=None, patience=100, batch=16, imgsz=640, save=True, save_period=-1, cache=False, device=None, workers=8, project=drive/My Drive/Basketball_computer_vision/datasets/Basketball_Project-Final, name=YOLO_train_Final, exist_ok=False, pretrained=True, optimizer=auto, verbose=True, seed=0, deterministic=True, single_cls=False, rect=False, cos_lr=False, close_mosaic=10, resume=False, amp=True, fraction=1.0, profile=False, freeze=None, multi_scale=False, overlap_mask=True, mask_ratio=4, dropout=0.0, val=True, split=val, save_json=False, save_hybrid=False, conf=None, iou=0.7, max_det=300, half=False, dnn=False, plots=True, source=None, vid_stride=1, stream_buffer=False, visualize=False, augment=False, agnostic_nms=False, classes=None, retina_masks=False, embed=None, show=False, save_frames=False, save_txt=False, save_conf=False, save_crop=False, show_labels=True, show_conf=True, show_boxes=True, line_width=None, format=torchscript, keras=False, optimize=False, int8=False, dynamic=False, simplify=True, opset=None, workspace=None, nms=False, lr0=0.01, lrf=0.01, momentum=0.937, weight_decay=0.0005, warmup_epochs=3.0, warmup_momentum=0.8, warmup_bias_lr=0.1, box=7.5, cls=0.5, dfl=1.5, pose=12.0, kobj=1.0, nbs=64, hsv_h=0.015, hsv_s=0.7, hsv_v=0.4, degrees=0.0, translate=0.1, scale=0.5, shear=0.0, perspective=0.0, flipud=0.0, fliplr=0.5, bgr=0.0, mosaic=1.0, mixup=0.0, copy_paste=0.0, copy_paste_mode=flip, auto_augment=randaugment, erasing=0.4, crop_fraction=1.0, cfg=None, tracker=botsort.yaml, save_dir=drive/My Drive/Basketball_computer_vision/datasets/Basketball_Project-Final/YOLO_train_Final\n",
            "Overriding model.yaml nc=80 with nc=5\n",
            "\n",
            "                   from  n    params  module                                       arguments                     \n",
            "  0                  -1  1       928  ultralytics.nn.modules.conv.Conv             [3, 32, 3, 2]                 \n",
            "  1                  -1  1     18560  ultralytics.nn.modules.conv.Conv             [32, 64, 3, 2]                \n",
            "  2                  -1  1     29056  ultralytics.nn.modules.block.C2f             [64, 64, 1, True]             \n",
            "  3                  -1  1     73984  ultralytics.nn.modules.conv.Conv             [64, 128, 3, 2]               \n",
            "  4                  -1  2    197632  ultralytics.nn.modules.block.C2f             [128, 128, 2, True]           \n",
            "  5                  -1  1    295424  ultralytics.nn.modules.conv.Conv             [128, 256, 3, 2]              \n",
            "  6                  -1  2    788480  ultralytics.nn.modules.block.C2f             [256, 256, 2, True]           \n",
            "  7                  -1  1   1180672  ultralytics.nn.modules.conv.Conv             [256, 512, 3, 2]              \n",
            "  8                  -1  1   1838080  ultralytics.nn.modules.block.C2f             [512, 512, 1, True]           \n",
            "  9                  -1  1    656896  ultralytics.nn.modules.block.SPPF            [512, 512, 5]                 \n",
            " 10                  -1  1         0  torch.nn.modules.upsampling.Upsample         [None, 2, 'nearest']          \n",
            " 11             [-1, 6]  1         0  ultralytics.nn.modules.conv.Concat           [1]                           \n",
            " 12                  -1  1    591360  ultralytics.nn.modules.block.C2f             [768, 256, 1]                 \n",
            " 13                  -1  1         0  torch.nn.modules.upsampling.Upsample         [None, 2, 'nearest']          \n",
            " 14             [-1, 4]  1         0  ultralytics.nn.modules.conv.Concat           [1]                           \n",
            " 15                  -1  1    148224  ultralytics.nn.modules.block.C2f             [384, 128, 1]                 \n",
            " 16                  -1  1    147712  ultralytics.nn.modules.conv.Conv             [128, 128, 3, 2]              \n",
            " 17            [-1, 12]  1         0  ultralytics.nn.modules.conv.Concat           [1]                           \n",
            " 18                  -1  1    493056  ultralytics.nn.modules.block.C2f             [384, 256, 1]                 \n",
            " 19                  -1  1    590336  ultralytics.nn.modules.conv.Conv             [256, 256, 3, 2]              \n",
            " 20             [-1, 9]  1         0  ultralytics.nn.modules.conv.Concat           [1]                           \n",
            " 21                  -1  1   1969152  ultralytics.nn.modules.block.C2f             [768, 512, 1]                 \n",
            " 22        [15, 18, 21]  1   2117983  ultralytics.nn.modules.head.Detect           [5, [128, 256, 512]]          \n",
            "Model summary: 225 layers, 11,137,535 parameters, 11,137,519 gradients, 28.7 GFLOPs\n",
            "\n",
            "Transferred 349/355 items from pretrained weights\n",
            "\u001b[34m\u001b[1mTensorBoard: \u001b[0mStart with 'tensorboard --logdir drive/My Drive/Basketball_computer_vision/datasets/Basketball_Project-Final/YOLO_train_Final', view at http://localhost:6006/\n",
            "Freezing layer 'model.22.dfl.conv.weight'\n",
            "\u001b[34m\u001b[1mAMP: \u001b[0mrunning Automatic Mixed Precision (AMP) checks...\n",
            "\u001b[34m\u001b[1mAMP: \u001b[0mchecks passed ✅\n",
            "\u001b[34m\u001b[1mtrain: \u001b[0mScanning /content/drive/My Drive/Basketball_computer_vision/datasets/Basketball_Project-Final/labels/train.cache... 1351 images, 0 backgrounds, 0 corrupt: 100% 1351/1351 [00:00<?, ?it/s]\n",
            "\u001b[34m\u001b[1mtrain: \u001b[0mWARNING ⚠️ /content/drive/My Drive/Basketball_computer_vision/datasets/Basketball_Project-Final/images/train/image_20_png.rf.146e7ee1dd42fbf2c913d733ad3d7627.jpg: 1 duplicate labels removed\n",
            "\u001b[34m\u001b[1mtrain: \u001b[0mWARNING ⚠️ /content/drive/My Drive/Basketball_computer_vision/datasets/Basketball_Project-Final/images/train/image_20_png.rf.9bd82b60cceb2191e77062bc98149874.jpg: 1 duplicate labels removed\n",
            "\u001b[34m\u001b[1mtrain: \u001b[0mWARNING ⚠️ /content/drive/My Drive/Basketball_computer_vision/datasets/Basketball_Project-Final/images/train/image_20_png.rf.ddba1a768cb8c78e667a226afffbcd7b.jpg: 1 duplicate labels removed\n",
            "\u001b[34m\u001b[1malbumentations: \u001b[0mBlur(p=0.01, blur_limit=(3, 7)), MedianBlur(p=0.01, blur_limit=(3, 7)), ToGray(p=0.01), CLAHE(p=0.01, clip_limit=(1, 4.0), tile_grid_size=(8, 8))\n",
            "\u001b[34m\u001b[1mval: \u001b[0mScanning /content/drive/My Drive/Basketball_computer_vision/datasets/Basketball_Project-Final/labels/valid.cache... 59 images, 0 backgrounds, 0 corrupt: 100% 59/59 [00:00<?, ?it/s]\n",
            "Plotting labels to drive/My Drive/Basketball_computer_vision/datasets/Basketball_Project-Final/YOLO_train_Final/labels.jpg... \n",
            "\u001b[34m\u001b[1moptimizer:\u001b[0m 'optimizer=auto' found, ignoring 'lr0=0.01' and 'momentum=0.937' and determining best 'optimizer', 'lr0' and 'momentum' automatically... \n",
            "\u001b[34m\u001b[1moptimizer:\u001b[0m AdamW(lr=0.001111, momentum=0.9) with parameter groups 57 weight(decay=0.0), 64 weight(decay=0.0005), 63 bias(decay=0.0)\n",
            "\u001b[34m\u001b[1mTensorBoard: \u001b[0mmodel graph visualization added ✅\n",
            "Image sizes 640 train, 640 val\n",
            "Using 2 dataloader workers\n",
            "Logging results to \u001b[1mdrive/My Drive/Basketball_computer_vision/datasets/Basketball_Project-Final/YOLO_train_Final\u001b[0m\n",
            "Starting training for 50 epochs...\n",
            "\n",
            "      Epoch    GPU_mem   box_loss   cls_loss   dfl_loss  Instances       Size\n",
            "       1/50      4.09G      1.211      1.341      1.217         52        640: 100% 85/85 [00:37<00:00,  2.28it/s]\n",
            "                 Class     Images  Instances      Box(P          R      mAP50  mAP50-95): 100% 2/2 [00:03<00:00,  1.61s/it]\n",
            "                   all         59        263      0.898      0.898      0.958      0.648\n",
            "\n",
            "      Epoch    GPU_mem   box_loss   cls_loss   dfl_loss  Instances       Size\n",
            "       2/50      3.82G      1.052     0.7058      1.132         34        640: 100% 85/85 [00:40<00:00,  2.11it/s]\n",
            "                 Class     Images  Instances      Box(P          R      mAP50  mAP50-95): 100% 2/2 [00:00<00:00,  2.58it/s]\n",
            "                   all         59        263      0.906        0.9      0.956      0.633\n",
            "\n",
            "      Epoch    GPU_mem   box_loss   cls_loss   dfl_loss  Instances       Size\n",
            "       3/50      4.09G       1.04     0.6646       1.13         58        640: 100% 85/85 [00:35<00:00,  2.40it/s]\n",
            "                 Class     Images  Instances      Box(P          R      mAP50  mAP50-95): 100% 2/2 [00:01<00:00,  1.79it/s]\n",
            "                   all         59        263      0.877      0.818      0.928       0.62\n",
            "\n",
            "      Epoch    GPU_mem   box_loss   cls_loss   dfl_loss  Instances       Size\n",
            "       4/50      4.02G      1.046     0.6584      1.134         44        640: 100% 85/85 [00:35<00:00,  2.41it/s]\n",
            "                 Class     Images  Instances      Box(P          R      mAP50  mAP50-95): 100% 2/2 [00:00<00:00,  2.40it/s]\n",
            "                   all         59        263       0.92      0.917      0.949      0.619\n",
            "\n",
            "      Epoch    GPU_mem   box_loss   cls_loss   dfl_loss  Instances       Size\n",
            "       5/50      4.08G     0.9937     0.6048      1.114         52        640: 100% 85/85 [00:35<00:00,  2.40it/s]\n",
            "                 Class     Images  Instances      Box(P          R      mAP50  mAP50-95): 100% 2/2 [00:00<00:00,  2.66it/s]\n",
            "                   all         59        263      0.919      0.925      0.971      0.668\n",
            "\n",
            "      Epoch    GPU_mem   box_loss   cls_loss   dfl_loss  Instances       Size\n",
            "       6/50      4.07G     0.9685     0.5806      1.096         57        640: 100% 85/85 [00:35<00:00,  2.41it/s]\n",
            "                 Class     Images  Instances      Box(P          R      mAP50  mAP50-95): 100% 2/2 [00:00<00:00,  2.44it/s]\n",
            "                   all         59        263      0.914      0.943      0.957      0.669\n",
            "\n",
            "      Epoch    GPU_mem   box_loss   cls_loss   dfl_loss  Instances       Size\n",
            "       7/50      4.09G     0.9365     0.5544      1.078         36        640: 100% 85/85 [00:36<00:00,  2.36it/s]\n",
            "                 Class     Images  Instances      Box(P          R      mAP50  mAP50-95): 100% 2/2 [00:00<00:00,  2.23it/s]\n",
            "                   all         59        263      0.945      0.928      0.974      0.658\n",
            "\n",
            "      Epoch    GPU_mem   box_loss   cls_loss   dfl_loss  Instances       Size\n",
            "       8/50      4.03G     0.9361     0.5444      1.079         46        640: 100% 85/85 [00:37<00:00,  2.25it/s]\n",
            "                 Class     Images  Instances      Box(P          R      mAP50  mAP50-95): 100% 2/2 [00:01<00:00,  1.09it/s]\n",
            "                   all         59        263      0.942      0.946       0.96      0.661\n",
            "\n",
            "      Epoch    GPU_mem   box_loss   cls_loss   dfl_loss  Instances       Size\n",
            "       9/50      4.06G     0.9121      0.524      1.073         33        640: 100% 85/85 [00:44<00:00,  1.91it/s]\n",
            "                 Class     Images  Instances      Box(P          R      mAP50  mAP50-95): 100% 2/2 [00:01<00:00,  1.60it/s]\n",
            "                   all         59        263      0.939      0.934      0.952      0.682\n",
            "\n",
            "      Epoch    GPU_mem   box_loss   cls_loss   dfl_loss  Instances       Size\n",
            "      10/50      4.07G     0.8914     0.5098      1.062         43        640: 100% 85/85 [00:34<00:00,  2.44it/s]\n",
            "                 Class     Images  Instances      Box(P          R      mAP50  mAP50-95): 100% 2/2 [00:00<00:00,  2.21it/s]\n",
            "                   all         59        263      0.939      0.952      0.972      0.678\n",
            "\n",
            "      Epoch    GPU_mem   box_loss   cls_loss   dfl_loss  Instances       Size\n",
            "      11/50      4.08G      0.884     0.5054      1.061         74        640: 100% 85/85 [00:34<00:00,  2.50it/s]\n",
            "                 Class     Images  Instances      Box(P          R      mAP50  mAP50-95): 100% 2/2 [00:01<00:00,  1.65it/s]\n",
            "                   all         59        263       0.94      0.919      0.966      0.675\n",
            "\n",
            "      Epoch    GPU_mem   box_loss   cls_loss   dfl_loss  Instances       Size\n",
            "      12/50      4.05G     0.8656     0.4958      1.045         62        640: 100% 85/85 [00:36<00:00,  2.30it/s]\n",
            "                 Class     Images  Instances      Box(P          R      mAP50  mAP50-95): 100% 2/2 [00:01<00:00,  1.71it/s]\n",
            "                   all         59        263      0.942       0.92       0.97      0.695\n",
            "\n",
            "      Epoch    GPU_mem   box_loss   cls_loss   dfl_loss  Instances       Size\n",
            "      13/50      4.07G     0.8504     0.4794      1.042         53        640: 100% 85/85 [00:34<00:00,  2.47it/s]\n",
            "                 Class     Images  Instances      Box(P          R      mAP50  mAP50-95): 100% 2/2 [00:01<00:00,  1.32it/s]\n",
            "                   all         59        263      0.947      0.936      0.969      0.705\n",
            "\n",
            "      Epoch    GPU_mem   box_loss   cls_loss   dfl_loss  Instances       Size\n",
            "      14/50      3.89G      0.846      0.476      1.039         42        640: 100% 85/85 [00:34<00:00,  2.48it/s]\n",
            "                 Class     Images  Instances      Box(P          R      mAP50  mAP50-95): 100% 2/2 [00:01<00:00,  1.33it/s]\n",
            "                   all         59        263      0.965      0.927      0.975      0.717\n",
            "\n",
            "      Epoch    GPU_mem   box_loss   cls_loss   dfl_loss  Instances       Size\n",
            "      15/50      4.07G     0.8404     0.4763      1.045         39        640: 100% 85/85 [00:43<00:00,  1.96it/s]\n",
            "                 Class     Images  Instances      Box(P          R      mAP50  mAP50-95): 100% 2/2 [00:02<00:00,  1.19s/it]\n",
            "                   all         59        263      0.976      0.939      0.974      0.711\n",
            "\n",
            "      Epoch    GPU_mem   box_loss   cls_loss   dfl_loss  Instances       Size\n",
            "      16/50      3.86G     0.8183     0.4549      1.026         48        640: 100% 85/85 [00:40<00:00,  2.10it/s]\n",
            "                 Class     Images  Instances      Box(P          R      mAP50  mAP50-95): 100% 2/2 [00:01<00:00,  1.49it/s]\n",
            "                   all         59        263      0.931      0.955      0.972      0.706\n",
            "\n",
            "      Epoch    GPU_mem   box_loss   cls_loss   dfl_loss  Instances       Size\n",
            "      17/50      4.08G     0.8203     0.4562      1.032         34        640: 100% 85/85 [00:35<00:00,  2.38it/s]\n",
            "                 Class     Images  Instances      Box(P          R      mAP50  mAP50-95): 100% 2/2 [00:01<00:00,  1.24it/s]\n",
            "                   all         59        263      0.934      0.953      0.967      0.709\n",
            "\n",
            "      Epoch    GPU_mem   box_loss   cls_loss   dfl_loss  Instances       Size\n",
            "      18/50      4.09G     0.8153     0.4537      1.021         58        640: 100% 85/85 [00:36<00:00,  2.35it/s]\n",
            "                 Class     Images  Instances      Box(P          R      mAP50  mAP50-95): 100% 2/2 [00:01<00:00,  1.15it/s]\n",
            "                   all         59        263      0.938       0.96      0.969      0.712\n",
            "\n",
            "      Epoch    GPU_mem   box_loss   cls_loss   dfl_loss  Instances       Size\n",
            "      19/50      4.05G     0.7875     0.4474      1.006         59        640: 100% 85/85 [00:38<00:00,  2.22it/s]\n",
            "                 Class     Images  Instances      Box(P          R      mAP50  mAP50-95): 100% 2/2 [00:00<00:00,  2.16it/s]\n",
            "                   all         59        263      0.957      0.965       0.98      0.723\n",
            "\n",
            "      Epoch    GPU_mem   box_loss   cls_loss   dfl_loss  Instances       Size\n",
            "      20/50      4.02G     0.7816     0.4334      1.008         37        640: 100% 85/85 [00:36<00:00,  2.34it/s]\n",
            "                 Class     Images  Instances      Box(P          R      mAP50  mAP50-95): 100% 2/2 [00:00<00:00,  2.54it/s]\n",
            "                   all         59        263      0.943      0.954      0.959      0.718\n",
            "\n",
            "      Epoch    GPU_mem   box_loss   cls_loss   dfl_loss  Instances       Size\n",
            "      21/50      4.07G     0.7784     0.4295      1.013         68        640: 100% 85/85 [00:36<00:00,  2.36it/s]\n",
            "                 Class     Images  Instances      Box(P          R      mAP50  mAP50-95): 100% 2/2 [00:00<00:00,  2.42it/s]\n",
            "                   all         59        263      0.947      0.947      0.973       0.71\n",
            "\n",
            "      Epoch    GPU_mem   box_loss   cls_loss   dfl_loss  Instances       Size\n",
            "      22/50      4.04G     0.7678     0.4208     0.9999         38        640: 100% 85/85 [00:40<00:00,  2.12it/s]\n",
            "                 Class     Images  Instances      Box(P          R      mAP50  mAP50-95): 100% 2/2 [00:00<00:00,  2.26it/s]\n",
            "                   all         59        263      0.939      0.954      0.963      0.715\n",
            "\n",
            "      Epoch    GPU_mem   box_loss   cls_loss   dfl_loss  Instances       Size\n",
            "      23/50      4.05G      0.761     0.4155          1         59        640: 100% 85/85 [00:39<00:00,  2.16it/s]\n",
            "                 Class     Images  Instances      Box(P          R      mAP50  mAP50-95): 100% 2/2 [00:00<00:00,  2.16it/s]\n",
            "                   all         59        263      0.944      0.953      0.972      0.721\n",
            "\n",
            "      Epoch    GPU_mem   box_loss   cls_loss   dfl_loss  Instances       Size\n",
            "      24/50      4.05G     0.7463     0.4062     0.9996         44        640: 100% 85/85 [00:35<00:00,  2.37it/s]\n",
            "                 Class     Images  Instances      Box(P          R      mAP50  mAP50-95): 100% 2/2 [00:00<00:00,  2.50it/s]\n",
            "                   all         59        263      0.934      0.976      0.974       0.72\n",
            "\n",
            "      Epoch    GPU_mem   box_loss   cls_loss   dfl_loss  Instances       Size\n",
            "      25/50      3.93G     0.7426     0.4084     0.9949         44        640: 100% 85/85 [00:37<00:00,  2.28it/s]\n",
            "                 Class     Images  Instances      Box(P          R      mAP50  mAP50-95): 100% 2/2 [00:00<00:00,  2.40it/s]\n",
            "                   all         59        263      0.964      0.967      0.974      0.729\n",
            "\n",
            "      Epoch    GPU_mem   box_loss   cls_loss   dfl_loss  Instances       Size\n",
            "      26/50      3.88G     0.7349     0.4023     0.9919         43        640: 100% 85/85 [00:36<00:00,  2.36it/s]\n",
            "                 Class     Images  Instances      Box(P          R      mAP50  mAP50-95): 100% 2/2 [00:00<00:00,  2.35it/s]\n",
            "                   all         59        263      0.957      0.936      0.963      0.724\n",
            "\n",
            "      Epoch    GPU_mem   box_loss   cls_loss   dfl_loss  Instances       Size\n",
            "      27/50      4.05G     0.7342     0.3994     0.9849         65        640: 100% 85/85 [00:35<00:00,  2.38it/s]\n",
            "                 Class     Images  Instances      Box(P          R      mAP50  mAP50-95): 100% 2/2 [00:01<00:00,  1.48it/s]\n",
            "                   all         59        263      0.949      0.973      0.969       0.72\n",
            "\n",
            "      Epoch    GPU_mem   box_loss   cls_loss   dfl_loss  Instances       Size\n",
            "      28/50      4.02G     0.7106     0.3876     0.9747         53        640: 100% 85/85 [00:35<00:00,  2.41it/s]\n",
            "                 Class     Images  Instances      Box(P          R      mAP50  mAP50-95): 100% 2/2 [00:01<00:00,  1.41it/s]\n",
            "                   all         59        263      0.961      0.954      0.975      0.732\n",
            "\n",
            "      Epoch    GPU_mem   box_loss   cls_loss   dfl_loss  Instances       Size\n",
            "      29/50      4.06G     0.7193     0.3918     0.9855         48        640: 100% 85/85 [00:38<00:00,  2.23it/s]\n",
            "                 Class     Images  Instances      Box(P          R      mAP50  mAP50-95): 100% 2/2 [00:01<00:00,  1.89it/s]\n",
            "                   all         59        263      0.964       0.97       0.98      0.739\n",
            "\n",
            "      Epoch    GPU_mem   box_loss   cls_loss   dfl_loss  Instances       Size\n",
            "      30/50      4.09G     0.7105     0.3793     0.9805         68        640: 100% 85/85 [00:39<00:00,  2.18it/s]\n",
            "                 Class     Images  Instances      Box(P          R      mAP50  mAP50-95): 100% 2/2 [00:00<00:00,  2.01it/s]\n",
            "                   all         59        263      0.965      0.926      0.976      0.736\n",
            "\n",
            "      Epoch    GPU_mem   box_loss   cls_loss   dfl_loss  Instances       Size\n",
            "      31/50         4G     0.6918      0.374     0.9769         40        640: 100% 85/85 [00:35<00:00,  2.42it/s]\n",
            "                 Class     Images  Instances      Box(P          R      mAP50  mAP50-95): 100% 2/2 [00:01<00:00,  1.03it/s]\n",
            "                   all         59        263       0.95      0.952      0.973      0.729\n",
            "\n",
            "      Epoch    GPU_mem   box_loss   cls_loss   dfl_loss  Instances       Size\n",
            "      32/50      3.89G     0.6909      0.372     0.9712         65        640: 100% 85/85 [00:34<00:00,  2.45it/s]\n",
            "                 Class     Images  Instances      Box(P          R      mAP50  mAP50-95): 100% 2/2 [00:01<00:00,  1.10it/s]\n",
            "                   all         59        263      0.951       0.95       0.97      0.732\n",
            "\n",
            "      Epoch    GPU_mem   box_loss   cls_loss   dfl_loss  Instances       Size\n",
            "      33/50       3.9G     0.6904     0.3765     0.9683         58        640: 100% 85/85 [00:34<00:00,  2.44it/s]\n",
            "                 Class     Images  Instances      Box(P          R      mAP50  mAP50-95): 100% 2/2 [00:01<00:00,  1.01it/s]\n",
            "                   all         59        263      0.934       0.97      0.961      0.727\n",
            "\n",
            "      Epoch    GPU_mem   box_loss   cls_loss   dfl_loss  Instances       Size\n",
            "      34/50      3.87G     0.6761     0.3621     0.9643         40        640: 100% 85/85 [00:35<00:00,  2.41it/s]\n",
            "                 Class     Images  Instances      Box(P          R      mAP50  mAP50-95): 100% 2/2 [00:01<00:00,  1.08it/s]\n",
            "                   all         59        263      0.942      0.959       0.96      0.731\n",
            "\n",
            "      Epoch    GPU_mem   box_loss   cls_loss   dfl_loss  Instances       Size\n",
            "      35/50      4.04G      0.677     0.3647     0.9618         47        640: 100% 85/85 [00:34<00:00,  2.44it/s]\n",
            "                 Class     Images  Instances      Box(P          R      mAP50  mAP50-95): 100% 2/2 [00:01<00:00,  1.31it/s]\n",
            "                   all         59        263       0.94      0.958      0.966      0.745\n",
            "\n",
            "      Epoch    GPU_mem   box_loss   cls_loss   dfl_loss  Instances       Size\n",
            "      36/50      3.86G     0.6705     0.3598     0.9625         50        640: 100% 85/85 [00:39<00:00,  2.15it/s]\n",
            "                 Class     Images  Instances      Box(P          R      mAP50  mAP50-95): 100% 2/2 [00:00<00:00,  2.29it/s]\n",
            "                   all         59        263      0.949      0.937      0.966       0.74\n",
            "\n",
            "      Epoch    GPU_mem   box_loss   cls_loss   dfl_loss  Instances       Size\n",
            "      37/50      4.06G     0.6663     0.3564     0.9593         53        640: 100% 85/85 [00:40<00:00,  2.11it/s]\n",
            "                 Class     Images  Instances      Box(P          R      mAP50  mAP50-95): 100% 2/2 [00:00<00:00,  2.47it/s]\n",
            "                   all         59        263      0.945       0.95      0.968      0.734\n",
            "\n",
            "      Epoch    GPU_mem   box_loss   cls_loss   dfl_loss  Instances       Size\n",
            "      38/50      4.03G     0.6449     0.3482     0.9509         69        640: 100% 85/85 [00:36<00:00,  2.35it/s]\n",
            "                 Class     Images  Instances      Box(P          R      mAP50  mAP50-95): 100% 2/2 [00:01<00:00,  1.72it/s]\n",
            "                   all         59        263      0.946      0.947      0.971      0.735\n",
            "\n",
            "      Epoch    GPU_mem   box_loss   cls_loss   dfl_loss  Instances       Size\n",
            "      39/50      4.09G      0.648     0.3466     0.9537         59        640: 100% 85/85 [00:35<00:00,  2.38it/s]\n",
            "                 Class     Images  Instances      Box(P          R      mAP50  mAP50-95): 100% 2/2 [00:00<00:00,  2.05it/s]\n",
            "                   all         59        263      0.963      0.949      0.971      0.739\n",
            "\n",
            "      Epoch    GPU_mem   box_loss   cls_loss   dfl_loss  Instances       Size\n",
            "      40/50      4.02G     0.6441     0.3447      0.958         40        640: 100% 85/85 [00:35<00:00,  2.37it/s]\n",
            "                 Class     Images  Instances      Box(P          R      mAP50  mAP50-95): 100% 2/2 [00:01<00:00,  1.90it/s]\n",
            "                   all         59        263      0.947      0.954      0.966      0.739\n",
            "Closing dataloader mosaic\n",
            "\u001b[34m\u001b[1malbumentations: \u001b[0mBlur(p=0.01, blur_limit=(3, 7)), MedianBlur(p=0.01, blur_limit=(3, 7)), ToGray(p=0.01), CLAHE(p=0.01, clip_limit=(1, 4.0), tile_grid_size=(8, 8))\n",
            "\n",
            "      Epoch    GPU_mem   box_loss   cls_loss   dfl_loss  Instances       Size\n",
            "      41/50      4.03G     0.5995     0.2984     0.9387         29        640: 100% 85/85 [00:36<00:00,  2.34it/s]\n",
            "                 Class     Images  Instances      Box(P          R      mAP50  mAP50-95): 100% 2/2 [00:01<00:00,  1.99it/s]\n",
            "                   all         59        263      0.946      0.954       0.96      0.731\n",
            "\n",
            "      Epoch    GPU_mem   box_loss   cls_loss   dfl_loss  Instances       Size\n",
            "      42/50      3.87G     0.5915     0.2964     0.9427         31        640: 100% 85/85 [00:32<00:00,  2.60it/s]\n",
            "                 Class     Images  Instances      Box(P          R      mAP50  mAP50-95): 100% 2/2 [00:02<00:00,  1.00s/it]\n",
            "                   all         59        263      0.939      0.949      0.955      0.728\n",
            "\n",
            "      Epoch    GPU_mem   box_loss   cls_loss   dfl_loss  Instances       Size\n",
            "      43/50      4.03G     0.5826     0.2923     0.9358         33        640: 100% 85/85 [00:35<00:00,  2.37it/s]\n",
            "                 Class     Images  Instances      Box(P          R      mAP50  mAP50-95): 100% 2/2 [00:01<00:00,  1.91it/s]\n",
            "                   all         59        263      0.934      0.945      0.969      0.741\n",
            "\n",
            "      Epoch    GPU_mem   box_loss   cls_loss   dfl_loss  Instances       Size\n",
            "      44/50      3.86G     0.5779     0.2894     0.9334         33        640: 100% 85/85 [00:33<00:00,  2.50it/s]\n",
            "                 Class     Images  Instances      Box(P          R      mAP50  mAP50-95): 100% 2/2 [00:01<00:00,  1.63it/s]\n",
            "                   all         59        263      0.945      0.949      0.954      0.731\n",
            "\n",
            "      Epoch    GPU_mem   box_loss   cls_loss   dfl_loss  Instances       Size\n",
            "      45/50      4.05G     0.5665     0.2836     0.9282         33        640: 100% 85/85 [00:34<00:00,  2.44it/s]\n",
            "                 Class     Images  Instances      Box(P          R      mAP50  mAP50-95): 100% 2/2 [00:00<00:00,  2.13it/s]\n",
            "                   all         59        263      0.952      0.946      0.957      0.732\n",
            "\n",
            "      Epoch    GPU_mem   box_loss   cls_loss   dfl_loss  Instances       Size\n",
            "      46/50      4.03G     0.5547     0.2779     0.9222         29        640: 100% 85/85 [00:34<00:00,  2.44it/s]\n",
            "                 Class     Images  Instances      Box(P          R      mAP50  mAP50-95): 100% 2/2 [00:00<00:00,  2.34it/s]\n",
            "                   all         59        263      0.954      0.949      0.961      0.731\n",
            "\n",
            "      Epoch    GPU_mem   box_loss   cls_loss   dfl_loss  Instances       Size\n",
            "      47/50      4.02G      0.544     0.2735     0.9195         29        640: 100% 85/85 [00:34<00:00,  2.48it/s]\n",
            "                 Class     Images  Instances      Box(P          R      mAP50  mAP50-95): 100% 2/2 [00:00<00:00,  2.60it/s]\n",
            "                   all         59        263      0.953      0.947       0.96      0.737\n",
            "\n",
            "      Epoch    GPU_mem   box_loss   cls_loss   dfl_loss  Instances       Size\n",
            "      48/50      4.02G     0.5394     0.2709      0.916         30        640: 100% 85/85 [00:33<00:00,  2.51it/s]\n",
            "                 Class     Images  Instances      Box(P          R      mAP50  mAP50-95): 100% 2/2 [00:01<00:00,  1.17it/s]\n",
            "                   all         59        263      0.955      0.952      0.967       0.74\n",
            "\n",
            "      Epoch    GPU_mem   box_loss   cls_loss   dfl_loss  Instances       Size\n",
            "      49/50      3.88G     0.5308      0.266     0.9139         31        640: 100% 85/85 [00:31<00:00,  2.69it/s]\n",
            "                 Class     Images  Instances      Box(P          R      mAP50  mAP50-95): 100% 2/2 [00:01<00:00,  1.70it/s]\n",
            "                   all         59        263      0.947      0.954      0.962      0.739\n",
            "\n",
            "      Epoch    GPU_mem   box_loss   cls_loss   dfl_loss  Instances       Size\n",
            "      50/50      4.04G     0.5218     0.2613      0.918         34        640: 100% 85/85 [00:35<00:00,  2.39it/s]\n",
            "                 Class     Images  Instances      Box(P          R      mAP50  mAP50-95): 100% 2/2 [00:01<00:00,  1.75it/s]\n",
            "                   all         59        263       0.95      0.952      0.962      0.739\n",
            "\n",
            "50 epochs completed in 0.545 hours.\n",
            "Optimizer stripped from drive/My Drive/Basketball_computer_vision/datasets/Basketball_Project-Final/YOLO_train_Final/weights/last.pt, 22.5MB\n",
            "Optimizer stripped from drive/My Drive/Basketball_computer_vision/datasets/Basketball_Project-Final/YOLO_train_Final/weights/best.pt, 22.5MB\n",
            "\n",
            "Validating drive/My Drive/Basketball_computer_vision/datasets/Basketball_Project-Final/YOLO_train_Final/weights/best.pt...\n",
            "Ultralytics 8.3.38 🚀 Python-3.10.12 torch-2.5.1+cu121 CUDA:0 (Tesla T4, 15102MiB)\n",
            "Model summary (fused): 168 layers, 11,127,519 parameters, 0 gradients, 28.4 GFLOPs\n",
            "                 Class     Images  Instances      Box(P          R      mAP50  mAP50-95): 100% 2/2 [00:01<00:00,  1.17it/s]\n",
            "                   all         59        263       0.94      0.958      0.966      0.746\n",
            "            basketball         42         43      0.928      0.953      0.946      0.674\n",
            "                  hand         18         18      0.871      0.944      0.927      0.612\n",
            "                   net         55         55      0.996      0.982      0.995      0.777\n",
            "                person         55         88       0.93      0.909      0.967      0.736\n",
            "               shooter         59         59      0.974          1      0.995       0.93\n",
            "Speed: 0.4ms preprocess, 5.0ms inference, 0.0ms loss, 4.4ms postprocess per image\n",
            "Results saved to \u001b[1mdrive/My Drive/Basketball_computer_vision/datasets/Basketball_Project-Final/YOLO_train_Final\u001b[0m\n",
            "💡 Learn more at https://docs.ultralytics.com/modes/train\n"
          ]
        }
      ]
    },
    {
      "cell_type": "code",
      "source": [],
      "metadata": {
        "id": "X-tV7f_-_T9G"
      },
      "execution_count": null,
      "outputs": []
    },
    {
      "cell_type": "code",
      "source": [
        "import cv2\n",
        "import torch\n",
        "import numpy as np\n",
        "from ultralytics import YOLO\n",
        "\n",
        "\n",
        "def create_scored_vdo(video_path, output_path, model):\n",
        "    # Open the video file\n",
        "    cap = cv2.VideoCapture(video_path)\n",
        "\n",
        "    # Get video properties\n",
        "    frame_width = int(cap.get(cv2.CAP_PROP_FRAME_WIDTH))\n",
        "    frame_height = int(cap.get(cv2.CAP_PROP_FRAME_HEIGHT))\n",
        "\n",
        "    fps = cap.get(cv2.CAP_PROP_FPS)\n",
        "\n",
        "    # Create VideoWriter object to save the output video\n",
        "    fourcc = cv2.VideoWriter_fourcc(*\"mp4v\")  # Use appropriate codec\n",
        "    out = cv2.VideoWriter(output_path, fourcc, fps, (frame_width, frame_height))\n",
        "\n",
        "    # Process each frame of the video\n",
        "    while cap.isOpened():\n",
        "        ret, frame = cap.read()\n",
        "        if not ret:\n",
        "            break\n",
        "\n",
        "        # Perform object detection\n",
        "        results = model(frame, verbose=False)\n",
        "\n",
        "        # Get bounding boxes and labels\n",
        "        for *xyxy, conf, cls in results[0].boxes.data.tolist():\n",
        "            x1, y1, x2, y2 = map(int, xyxy)\n",
        "            label = model.names[int(cls)]\n",
        "\n",
        "            # Draw bounding box and label on the frame\n",
        "            cv2.rectangle(frame, (x1, y1), (x2, y2), (0, 255, 0), 2)\n",
        "            cv2.putText(frame, f\"{label} {conf:.2f}\", (x1, y1 - 10), cv2.FONT_HERSHEY_SIMPLEX, 0.9, (0, 255, 0), 2)\n",
        "\n",
        "        # Write the frame to the output video\n",
        "        out.write(frame)\n",
        "\n",
        "    # Release resources\n",
        "    cap.release()\n",
        "    out.release()\n",
        "\n",
        "    print(f\"Video saved to: {output_path}\")"
      ],
      "metadata": {
        "id": "6L9_sGArAh3S"
      },
      "execution_count": null,
      "outputs": []
    },
    {
      "cell_type": "code",
      "source": [
        "yolo_weights = os.path.join(HOME, \"YOLO_train_Final\", \"weights\", \"best.pt\")\n",
        "model = YOLO(yolo_weights)\n",
        "\n",
        "\n",
        "video_path = \"/content/drive/My Drive/Basketball_computer_vision/SpinVideos/Copy of 01232023101323.MOV\"\n",
        "output_path = \"/content/drive/My Drive/Basketball_computer_vision/datasets/Basketball_Project-Final/scored_output/Scored_Copy_of_01232023101323.mp4\"\n",
        "\n",
        "create_scored_vdo(video_path, output_path, model)"
      ],
      "metadata": {
        "colab": {
          "base_uri": "https://localhost:8080/"
        },
        "id": "F9qyrrPgAmiO",
        "outputId": "b5544cf8-a305-4c69-8907-4a79d0d79e49"
      },
      "execution_count": null,
      "outputs": [
        {
          "output_type": "stream",
          "name": "stdout",
          "text": [
            "1080 1920\n",
            "Video saved to: /content/drive/My Drive/Basketball_computer_vision/datasets/Basketball_Project-Final/scored_output/Scored_Copy_of_01232023101323.mp4\n"
          ]
        }
      ]
    },
    {
      "cell_type": "code",
      "source": [],
      "metadata": {
        "id": "gB_pNLm4GSAi"
      },
      "execution_count": null,
      "outputs": []
    }
  ]
}
